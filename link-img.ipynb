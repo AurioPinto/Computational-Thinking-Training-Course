{
 "cells": [
  {
   "cell_type": "code",
   "execution_count": 1,
   "metadata": {},
   "outputs": [
    {
     "name": "stdout",
     "output_type": "stream",
     "text": [
      "MainThread正在下载1页\n",
      "MainThread正在下载2页\n",
      "MainThread正在下载3页\n",
      "MainThread正在下载4页\n",
      "MainThread正在下载5页\n",
      "MainThread正在下载6页\n",
      "MainThread正在下载7页\n",
      "MainThread正在下载8页\n",
      "MainThread正在下载9页\n",
      "MainThread正在下载10页\n",
      "MainThread正在下载11页\n",
      "MainThread正在下载12页\n",
      "MainThread正在下载13页\n",
      "MainThread正在下载14页\n",
      "MainThread正在下载15页\n",
      "MainThread正在下载16页\n",
      "MainThread正在下载17页\n",
      "MainThread正在下载18页\n",
      "MainThread正在下载19页\n",
      "MainThread正在下载20页\n",
      "MainThread正在下载21页\n",
      "MainThread正在下载22页\n",
      "MainThread正在下载23页\n",
      "MainThread正在下载24页\n",
      "MainThread正在下载25页\n",
      "MainThread正在下载26页\n",
      "MainThread正在下载27页\n",
      "MainThread正在下载28页\n",
      "MainThread正在下载29页\n",
      "MainThread正在下载30页\n",
      "MainThread正在下载31页\n",
      "MainThread正在下载32页\n",
      "MainThread正在下载33页\n",
      "MainThread正在下载34页\n",
      "MainThread正在下载35页\n",
      "MainThread正在下载36页\n",
      "MainThread正在下载37页\n",
      "MainThread正在下载38页\n",
      "MainThread正在下载39页\n",
      "MainThread正在下载40页\n",
      "MainThread正在下载41页\n",
      "MainThread正在下载42页\n",
      "MainThread正在下载43页\n",
      "MainThread正在下载44页\n",
      "MainThread正在下载45页\n",
      "MainThread正在下载46页\n",
      "MainThread正在下载47页\n",
      "MainThread正在下载48页\n",
      "MainThread正在下载49页\n",
      "MainThread正在下载50页\n",
      "MainThread正在下载51页\n",
      "MainThread正在下载52页\n",
      "MainThread正在下载53页\n",
      "MainThread正在下载54页\n",
      "MainThread正在下载55页\n",
      "MainThread正在下载56页\n",
      "MainThread正在下载57页\n",
      "MainThread正在下载58页\n",
      "MainThread正在下载59页\n",
      "MainThread正在下载60页\n",
      "MainThread正在下载61页\n",
      "MainThread正在下载62页\n",
      "MainThread正在下载63页\n",
      "MainThread正在下载64页\n",
      "MainThread正在下载65页\n",
      "MainThread正在下载66页\n",
      "MainThread正在下载67页\n",
      "MainThread正在下载68页\n",
      "MainThread正在下载69页\n",
      "MainThread正在下载70页\n",
      "MainThread正在下载71页\n"
     ]
    }
   ],
   "source": [
    "import requests\n",
    "import os\n",
    "import time\n",
    "import threading\n",
    "from bs4 import BeautifulSoup\n",
    "from PIL import Image\n",
    "from io import BytesIO\n",
    "\n",
    "\n",
    "def download_page(url):\n",
    "   '''\n",
    "   用于下载页面\n",
    "   '''\n",
    "   headers = {\"User-Agent\": \"Mozilla/5.0 (Windows NT 10.0; Win64; x64; rv:61.0) Gecko/20100101 Firefox/61.0\"}\n",
    "   r = requests.get(url, headers=headers)\n",
    "   r.encoding = 'gb2312'\n",
    "   return r.text\n",
    "\n",
    "\n",
    "def get_pic_list(html):\n",
    "   '''\n",
    "   获取每个页面的套图列表,之后循环调用get_pic函数获取图片\n",
    "   '''\n",
    "   soup = BeautifulSoup(html, 'html.parser')\n",
    "   pic_list = soup.find_all('li', class_='wp-item')\n",
    "   for i in pic_list:\n",
    "       a_tag = i.find('h3', class_='tit').find('a')\n",
    "       link = a_tag.get('href')\n",
    "       text = a_tag.get_text()\n",
    "       get_pic(link, text)\n",
    "\n",
    "\n",
    "def get_pic(link, text):\n",
    "   '''\n",
    "   获取当前页面的图片,并保存\n",
    "   '''\n",
    "   html = download_page(link)  # 下载界面\n",
    "   soup = BeautifulSoup(html, 'html.parser')\n",
    "   pic_list = soup.find('div', id=\"picture\").find_all('img')  # 找到界面所有图片\n",
    "   headers = {\"User-Agent\": \"Mozilla/5.0 (Windows NT 10.0; Win64; x64; rv:61.0) Gecko/20100101 Firefox/61.0\"}\n",
    "   create_dir('pic/{}'.format(text))\n",
    "   for i in pic_list:\n",
    "       pic_link = i.get('src')  # 拿到图片的具体 url\n",
    "       r = requests.get(pic_link, headers=headers)  # 下载图片，之后保存到文件\n",
    "       with open('pic/{}/{}'.format(text, link.split('/')[-1]), 'wb') as f:\n",
    "           f.write(r.content)\n",
    "           time.sleep(1)   # 休息一下，不要给网站太大压力，避免被封\n",
    "\n",
    "\n",
    "def create_dir(name):\n",
    "   if not os.path.exists(name):\n",
    "       os.makedirs(name)\n",
    "\n",
    "\n",
    "def execute(url):\n",
    "   page_html = download_page(url)\n",
    "   get_pic_list(page_html)\n",
    "\n",
    "\n",
    "def main():\n",
    "   create_dir('pic');\n",
    "   queue = [i for i in range(1, 72)]   # 构造 url 链接 页码。\n",
    "   threads = []\n",
    "   while len(queue) > 0:\n",
    "       for thread in threads:\n",
    "           if not thread.is_alive():\n",
    "               threads.remove(thread)\n",
    "       while len(threads) < 5 and len(queue) > 0:   # 最大线程数设置为 5\n",
    "           cur_page = queue.pop(0)\n",
    "           url = 'http://www.bjp.org.cn/art/2019/4/30/art_249_2688.html'.format(cur_page)\n",
    "           thread = threading.Thread(target=execute, args=(url,))\n",
    "           thread.setDaemon(True)\n",
    "           thread.start()\n",
    "           print('{}正在下载{}页'.format(threading.current_thread().name, cur_page))\n",
    "           threads.append(thread)\n",
    "\n",
    "\n",
    "if __name__ == '__main__':\n",
    "   main()"
   ]
  },
  {
   "cell_type": "code",
   "execution_count": 2,
   "metadata": {},
   "outputs": [],
   "source": [
    "# N- 10000\n",
    "# s=0\n",
    "# imoport numpy as np \n",
    "# imprt random as R \n",
    "# for icN:\n",
    "#     x-y=R.random"
   ]
  },
  {
   "cell_type": "code",
   "execution_count": 4,
   "metadata": {},
   "outputs": [
    {
     "data": {
      "image/png": "[encoded data removed]",
      "text/plain": [
       "<matplotlib.figure.Figure at 0x7f1070205e90>"
      ]
     },
     "metadata": {
      "needs_background": "light"
     },
     "output_type": "display_data"
    },
    {
     "name": "stderr",
     "output_type": "stream",
     "text": [
      "/home/ap_tech/miniconda3/envs/west/lib/python2.7/site-packages/sklearn/decomposition/sparse_pca.py:170: DeprecationWarning: normalize_components=False is a backward-compatible setting that implements a non-standard definition of sparse PCA. This compatibility mode will be removed in 0.22.\n",
      "  DeprecationWarning)\n"
     ]
    },
    {
     "data": {
      "image/png": "[encoded data removed]",
      "text/plain": [
       "<matplotlib.figure.Figure at 0x7f10541b9610>"
      ]
     },
     "metadata": {
      "needs_background": "light"
     },
     "output_type": "display_data"
    },
    {
     "name": "stdout",
     "output_type": "stream",
     "text": [
      "[[-71.27620632   0.           0.           0.        ]\n",
      " [  0.           0.          49.82036993   0.        ]\n",
      " [  0.         -36.82062929   0.           0.        ]\n",
      " [  0.           0.           0.          16.38763929]]\n"
     ]
    }
   ],
   "source": [
    "from sklearn import datasets\n",
    "iris=datasets.load_iris() # 从数据库获得数据\n",
    "data=iris.data #获得自变量数据\n",
    "target=iris.target  # 获得样本的分类信息\n",
    "from pylab import plot, show\n",
    "plot(data[target==0,0],data[target==0,2],'b^')\n",
    "plot(data[target==1,0],data[target==1,2],'r*')\n",
    "plot(data[target==2,0],data[target==2,2],'go')\n",
    "show()\n",
    "from sklearn.decomposition import SparsePCA\n",
    "pca = SparsePCA(n_components=4)\n",
    "pcad = pca.fit_transform(data)\n",
    "plot(pcad[target==0,0],pcad[target==0,1],'b^')\n",
    "plot(pcad[target==1,0],pcad[target==1,1],'r*')\n",
    "plot(pcad[target==2,0],pcad[target==2,1],'go')\n",
    "show()\n",
    "print(pca.components_)\n"
   ]
  },
  {
   "cell_type": "code",
   "execution_count": null,
   "metadata": {},
   "outputs": [],
   "source": []
  }
 ],
 "metadata": {
  "kernelspec": {
   "display_name": "Python [conda env:west]",
   "language": "python",
   "name": "conda-env-west-py"
  },
  "language_info": {
   "codemirror_mode": {
    "name": "ipython",
    "version": 2
   },
   "file_extension": ".py",
   "mimetype": "text/x-python",
   "name": "python",
   "nbconvert_exporter": "python",
   "pygments_lexer": "ipython2",
   "version": "2.7.15"
  }
 },
 "nbformat": 4,
 "nbformat_minor": 2
}
